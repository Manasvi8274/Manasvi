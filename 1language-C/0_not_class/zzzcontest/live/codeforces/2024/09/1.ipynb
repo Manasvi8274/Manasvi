{
 "cells": [
  {
   "cell_type": "code",
   "execution_count": 3,
   "metadata": {},
   "outputs": [
    {
     "name": "stdout",
     "output_type": "stream",
     "text": [
      "YES\n"
     ]
    }
   ],
   "source": [
    "for _ in range(int(input())):\n",
    "    a,b=map(int,input().split())\n",
    "    if(a == 2*b):\n",
    "        print(\"YES\")\n",
    "    elif((a%2==0 and b%2==0)):\n",
    "        print(\"YES\")\n",
    "    elif(b%2!=0):\n",
    "        if((a-2)%2==0 and a>=2):\n",
    "            print(\"YES\")\n",
    "        else:\n",
    "            print(\"NO\")\n",
    "    else:\n",
    "        print(\"NO\")"
   ]
  },
  {
   "cell_type": "code",
   "execution_count": 17,
   "metadata": {},
   "outputs": [
    {
     "name": "stdout",
     "output_type": "stream",
     "text": [
      "NO\n",
      "YES\n",
      "YES\n",
      "hi3  4   1\n",
      "NO\n",
      "NO\n"
     ]
    }
   ],
   "source": [
    "for _ in range(int(input())):\n",
    "    n=int(input())\n",
    "    s=input()\n",
    "    x=n**0.5\n",
    "    if(x!=int(x)):\n",
    "        print(\"NO\")\n",
    "    else:\n",
    "        if(x==2):\n",
    "            print(\"YES\")\n",
    "        else:\n",
    "            x=int(x)\n",
    "            flag=0\n",
    "            for i in range(n):\n",
    "                if((i<x) or (i>=n-x)):\n",
    "                    if(s[i]!=\"1\"):\n",
    "                        print(\"hi1\")\n",
    "                        flag=1\n",
    "                        break\n",
    "                elif(i%x==0 or (i+1)%x==0):\n",
    "                    if(s[i]!=\"1\"):\n",
    "                        print(\"hi2\")\n",
    "                        flag=1\n",
    "                        break\n",
    "                else:\n",
    "                    if(s[i]!=\"0\"):\n",
    "                        # print(\"hi3 \",i,\" \",s[i])\n",
    "                        flag=1\n",
    "                \n",
    "            if(flag):\n",
    "                print(\"NO\")\n",
    "            else:\n",
    "                print(\"YES\")"
   ]
  },
  {
   "cell_type": "code",
   "execution_count": 19,
   "metadata": {},
   "outputs": [
    {
     "name": "stdout",
     "output_type": "stream",
     "text": [
      "2\n",
      "3\n",
      "1\n",
      "5\n",
      "44721\n"
     ]
    }
   ],
   "source": [
    "for _ in range(int(input())):\n",
    "    a,b=map(int,input().split())\n",
    "    c=0\n",
    "    inc=1\n",
    "    while(a<=b):\n",
    "        c+=1\n",
    "        a+=inc\n",
    "        inc+=1\n",
    "    print(c)"
   ]
  },
  {
   "cell_type": "code",
   "execution_count": 21,
   "metadata": {},
   "outputs": [
    {
     "name": "stdout",
     "output_type": "stream",
     "text": [
      "31622.776585872405\n"
     ]
    }
   ],
   "source": [
    "a,an=1,1000000000\n"
   ]
  },
  {
   "cell_type": "code",
   "execution_count": null,
   "metadata": {},
   "outputs": [],
   "source": []
  }
 ],
 "metadata": {
  "kernelspec": {
   "display_name": "Python 3",
   "language": "python",
   "name": "python3"
  },
  "language_info": {
   "codemirror_mode": {
    "name": "ipython",
    "version": 3
   },
   "file_extension": ".py",
   "mimetype": "text/x-python",
   "name": "python",
   "nbconvert_exporter": "python",
   "pygments_lexer": "ipython3",
   "version": "3.11.9"
  }
 },
 "nbformat": 4,
 "nbformat_minor": 2
}
